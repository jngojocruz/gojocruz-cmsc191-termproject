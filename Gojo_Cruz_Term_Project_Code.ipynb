{
  "nbformat": 4,
  "nbformat_minor": 0,
  "metadata": {
    "colab": {
      "name": "Gojo Cruz - Term Project Code.ipynb",
      "provenance": [],
      "collapsed_sections": []
    },
    "kernelspec": {
      "name": "python3",
      "display_name": "Python 3"
    },
    "language_info": {
      "name": "python"
    }
  },
  "cells": [
    {
      "cell_type": "code",
      "execution_count": 1,
      "metadata": {
        "id": "cpb3FNJdMdwo"
      },
      "outputs": [],
      "source": [
        "#SETUP\n",
        "import tensorflow as tf\n",
        "from tensorflow import keras\n",
        "\n",
        "import os\n",
        "import tempfile\n",
        "\n",
        "import matplotlib as mpl\n",
        "import matplotlib.pyplot as plt\n",
        "import numpy as np\n",
        "import pandas as pd\n",
        "import seaborn as sns\n",
        "import math\n",
        "from keras.utils import np_utils\n",
        "\n",
        "import sklearn\n",
        "from sklearn.metrics import confusion_matrix\n",
        "from sklearn.model_selection import train_test_split\n",
        "from sklearn.preprocessing import StandardScaler\n",
        "from sklearn.preprocessing import Normalizer\n",
        "from sklearn.preprocessing import LabelEncoder\n",
        "\n",
        "from imblearn.over_sampling import SMOTE\n",
        "from collections import Counter\n",
        "from matplotlib import pyplot"
      ]
    },
    {
      "cell_type": "code",
      "source": [
        "# DATA PROCESSING\n",
        "# Yeast Dataset\n",
        "file = tf.keras.utils\n",
        "raw_df = pd.read_csv(\"datasets/yeast.csv\")\n",
        "raw_df_1 = pd.read_csv(\"datasets/train_data_70.csv\")\n",
        "raw_df_2 = pd.read_csv(\"datasets/validation_data_15.csv\")\n",
        "raw_df_3 = pd.read_csv(\"datasets/test_data_15.csv\")"
      ],
      "metadata": {
        "id": "hE_C5UXtM2o0"
      },
      "execution_count": 2,
      "outputs": []
    },
    {
      "cell_type": "code",
      "source": [
        "# Class Label \n",
        "cyt = nuc = mit = me3 = me2 = me1 = exc = vac = pox = erl = 0\n",
        "raw_dfs = [raw_df_1, raw_df_2, raw_df_3]\n",
        "for df in raw_dfs:\n",
        "  res_cyt, res_nuc, res_mit, res_me3, res_me2, res_me1, res_exc, res_vac, res_pox, res_erl = np.bincount(df[\"class_code\"])\n",
        "  cyt += res_cyt\n",
        "  nuc += res_nuc\n",
        "  mit += res_mit\n",
        "  me3 += res_me3\n",
        "  me2 += res_me2\n",
        "  me1 += res_me1\n",
        "  exc += res_exc\n",
        "  vac += res_vac\n",
        "  pox += res_pox\n",
        "  erl += res_erl\n",
        "\n",
        "total = cyt + nuc + mit + me3 + me2 + me1 + exc + vac + pox + erl\n",
        "print(\"Examples:\\n  Total: {}\".format(total))\n",
        "print(\" CYT: {} ({:.2f}% of total)\".format(cyt, 100*cyt/total))\n",
        "print(\" NUC: {} ({:.2f}% of total)\".format(nuc, 100*nuc/total))\n",
        "print(\" MIT: {} ({:.2f}% of total)\".format(mit, 100*mit/total))\n",
        "print(\" ME3: {} ({:.2f}% of total)\".format(me3, 100*me3/total))\n",
        "print(\" ME2: {} ({:.2f}% of total)\".format(me2, 100*me2/total))\n",
        "print(\" ME1: {} ({:.2f}% of total)\".format(me1, 100*me1/total))\n",
        "print(\" EXC: {} ({:.2f}% of total)\".format(exc, 100*exc/total))\n",
        "print(\" VAC: {} ({:.2f}% of total)\".format(vac, 100*vac/total))\n",
        "print(\" POX: {} ({:.2f}% of total)\".format(pox, 100*pox/total))\n",
        "print(\" ERL: {} ({:.2f}% of total)\".format(erl, 100*erl/total))"
      ],
      "metadata": {
        "colab": {
          "base_uri": "https://localhost:8080/"
        },
        "id": "tsfRaPD5NWLQ",
        "outputId": "f986d531-260a-4707-922d-7694f32c90ae"
      },
      "execution_count": 3,
      "outputs": [
        {
          "output_type": "stream",
          "name": "stdout",
          "text": [
            "Examples:\n",
            "  Total: 1487\n",
            " CYT: 463 (31.14% of total)\n",
            " NUC: 429 (28.85% of total)\n",
            " MIT: 244 (16.41% of total)\n",
            " ME3: 163 (10.96% of total)\n",
            " ME2: 51 (3.43% of total)\n",
            " ME1: 44 (2.96% of total)\n",
            " EXC: 35 (2.35% of total)\n",
            " VAC: 30 (2.02% of total)\n",
            " POX: 20 (1.34% of total)\n",
            " ERL: 8 (0.54% of total)\n"
          ]
        }
      ]
    },
    {
      "cell_type": "code",
      "source": [
        "# Clean, Split, and Normalize the Data\n",
        "cleaned_df = raw_df.copy()\n",
        "cleaned_df_1 = raw_df_1.copy()\n",
        "cleaned_df_2 = raw_df_2.copy()\n",
        "cleaned_df_3 = raw_df_3.copy()\n",
        "\n",
        "# remove the unnecessary columns\n",
        "for x in [\"seq_name\", \"class_code\", \"z_cyt\", \"z_nuc\", \"z_mit\", \"z_me3\", \"z_me2\", \"z_me1\", \"z_exc\", \"z_vac\", \"z_pox\", \"z_erl\"]:\n",
        "  cleaned_df.pop(x)\n",
        "  cleaned_df_1.pop(x)\n",
        "  cleaned_df_2.pop(x)\n",
        "  cleaned_df_3.pop(x)"
      ],
      "metadata": {
        "id": "X05dx_o8QJpq"
      },
      "execution_count": 4,
      "outputs": []
    },
    {
      "cell_type": "code",
      "source": [
        "train_df = cleaned_df_1\n",
        "val_df = cleaned_df_2\n",
        "test_df = cleaned_df_3\n",
        "\n",
        "# np arrays of labels and features\n",
        "train_labels = np.array(train_df.pop(\"classification\"))\n",
        "val_labels = np.array(val_df.pop(\"classification\"))\n",
        "test_labels = np.array(test_df.pop(\"classification\"))\n",
        "\n",
        "train_features = np.array(train_df)\n",
        "val_features = np.array(val_df)\n",
        "test_features = np.array(test_df)\n",
        "\n",
        "all_labels = np.concatenate((train_labels, val_labels, test_labels))\n",
        "all_features = np.concatenate((train_features, val_features, test_features))"
      ],
      "metadata": {
        "id": "nLVVAo5-Rsb3"
      },
      "execution_count": 5,
      "outputs": []
    },
    {
      "cell_type": "code",
      "source": [
        "# summarize distribution\n",
        "counter = Counter(train_labels)\n",
        "for k,v in counter.items():\n",
        "\tper = v / len(train_labels) * 100\n",
        "\tprint('Class=%s, n=%d (%.3f%%)' % (k, v, per))\n",
        "# plot the distribution\n",
        "pyplot.bar(counter.keys(), counter.values())\n",
        "pyplot.show()"
      ],
      "metadata": {
        "colab": {
          "base_uri": "https://localhost:8080/",
          "height": 439
        },
        "id": "661SCtqynHlF",
        "outputId": "15a5b4a0-ca6a-41bc-d9b7-fe17c547888f"
      },
      "execution_count": 6,
      "outputs": [
        {
          "output_type": "stream",
          "name": "stdout",
          "text": [
            "Class=EXC, n=24 (2.312%)\n",
            "Class=NUC, n=298 (28.709%)\n",
            "Class=CYT, n=323 (31.118%)\n",
            "Class=MIT, n=171 (16.474%)\n",
            "Class=ME1, n=31 (2.987%)\n",
            "Class=ME3, n=114 (10.983%)\n",
            "Class=ME2, n=36 (3.468%)\n",
            "Class=POX, n=14 (1.349%)\n",
            "Class=VAC, n=21 (2.023%)\n",
            "Class=ERL, n=6 (0.578%)\n"
          ]
        },
        {
          "output_type": "display_data",
          "data": {
            "image/png": "[encoded data removed]",
            "text/plain": [
              "<Figure size 432x288 with 1 Axes>"
            ]
          },
          "metadata": {
            "needs_background": "light"
          }
        }
      ]
    },
    {
      "cell_type": "code",
      "source": [
        "oversample = SMOTE()\n",
        "train_features, train_labels = oversample.fit_resample(train_features, train_labels)\n",
        "\n",
        "train_features.shape"
      ],
      "metadata": {
        "colab": {
          "base_uri": "https://localhost:8080/"
        },
        "id": "ZDa8nbyin9r-",
        "outputId": "dcc7ebc1-bfd4-4188-d0b6-b00ea1334ad9"
      },
      "execution_count": 7,
      "outputs": [
        {
          "output_type": "execute_result",
          "data": {
            "text/plain": [
              "(3230, 8)"
            ]
          },
          "metadata": {},
          "execution_count": 7
        }
      ]
    },
    {
      "cell_type": "code",
      "source": [
        "# summarize distribution\n",
        "counter = Counter(train_labels)\n",
        "for k,v in counter.items():\n",
        "\tper = v / len(train_labels) * 100\n",
        "\tprint('Class=%s, n=%d (%.3f%%)' % (k, v, per))\n",
        "# plot the distribution\n",
        "pyplot.bar(counter.keys(), counter.values())\n",
        "pyplot.show()"
      ],
      "metadata": {
        "colab": {
          "base_uri": "https://localhost:8080/",
          "height": 439
        },
        "id": "iw1rdAtSrVuK",
        "outputId": "e08913ab-6d3d-4202-f39f-497ac2540ba4"
      },
      "execution_count": 8,
      "outputs": [
        {
          "output_type": "stream",
          "name": "stdout",
          "text": [
            "Class=EXC, n=323 (10.000%)\n",
            "Class=NUC, n=323 (10.000%)\n",
            "Class=CYT, n=323 (10.000%)\n",
            "Class=MIT, n=323 (10.000%)\n",
            "Class=ME1, n=323 (10.000%)\n",
            "Class=ME3, n=323 (10.000%)\n",
            "Class=ME2, n=323 (10.000%)\n",
            "Class=POX, n=323 (10.000%)\n",
            "Class=VAC, n=323 (10.000%)\n",
            "Class=ERL, n=323 (10.000%)\n"
          ]
        },
        {
          "output_type": "display_data",
          "data": {
            "image/png": "[encoded data removed]",
            "text/plain": [
              "<Figure size 432x288 with 1 Axes>"
            ]
          },
          "metadata": {
            "needs_background": "light"
          }
        }
      ]
    },
    {
      "cell_type": "code",
      "source": [
        "# encode class values as integers\n",
        "encoder = LabelEncoder()\n",
        "encoder.fit(train_labels)\n",
        "train_labels = encoder.transform(train_labels)\n",
        "val_labels = encoder.transform(val_labels)\n",
        "test_labels = encoder.transform(test_labels)\n",
        "all_labels = encoder.transform(all_labels)\n",
        "\n",
        "# convert integers to dummy variables (i.e. one hot encoded)\n",
        "train_labels = np_utils.to_categorical(train_labels)\n",
        "val_labels = np_utils.to_categorical(val_labels)\n",
        "test_labels = np_utils.to_categorical(test_labels)\n",
        "all_labels = np_utils.to_categorical(all_labels)"
      ],
      "metadata": {
        "id": "ItEUGRXs1i36"
      },
      "execution_count": 9,
      "outputs": []
    },
    {
      "cell_type": "code",
      "source": [
        "# standardize the input features\n",
        "scaler = StandardScaler()\n",
        "train_features = scaler.fit_transform(train_features)\n",
        "val_features = scaler.transform(val_features)\n",
        "test_features = scaler.transform(test_features)\n",
        "#print(train_features)\n",
        "\n",
        "# normalizer = Normalizer()\n",
        "# train_features = normalizer.fit_transform(train_features)\n",
        "# val_features = normalizer.transform(val_features)\n",
        "# test_features = normalizer.transform(test_features)\n",
        "# print(train_features)\n",
        "\n",
        "print(\"Training labels shape:\", train_labels.shape)\n",
        "print(\"Validation labels shape:\", val_labels.shape)\n",
        "print(\"Test labels shape:\", test_labels.shape)\n",
        "\n",
        "print(\"Training features shape:\", train_features.shape)\n",
        "print(\"Validation features shape:\", val_features.shape)\n",
        "print(\"Test features shape:\", test_features.shape)"
      ],
      "metadata": {
        "colab": {
          "base_uri": "https://localhost:8080/"
        },
        "id": "N0Qcz-IQTPjk",
        "outputId": "bde833db-0172-4bc2-aa2e-5f62591170ad"
      },
      "execution_count": 10,
      "outputs": [
        {
          "output_type": "stream",
          "name": "stdout",
          "text": [
            "Training labels shape: (3230, 10)\n",
            "Validation labels shape: (225, 10)\n",
            "Test labels shape: (224, 10)\n",
            "Training features shape: (3230, 8)\n",
            "Validation features shape: (225, 8)\n",
            "Test features shape: (224, 8)\n"
          ]
        }
      ]
    },
    {
      "cell_type": "code",
      "source": [
        "# DEFINE THE MODEL AND METRICS\n",
        "\n",
        "METRICS = [\n",
        "  keras.metrics.CategoricalAccuracy(name='accuracy'),\n",
        "  keras.metrics.Precision(name='precision'),\n",
        "  keras.metrics.Recall(name='recall'),\n",
        "  keras.metrics.AUC(name='auc'),\n",
        "  keras.metrics.AUC(name='prc', curve='PR'),\n",
        "]\n",
        "\n",
        "def make_model(metrics=METRICS, output_bias=None, optimizer = \"adam\"):\n",
        "  if output_bias is not None:\n",
        "    output_bias = tf.keras.initializers.Constant(output_bias)\n",
        "  model = keras.Sequential()\n",
        "  model.add(keras.layers.Dense(12, input_dim=8, activation=\"relu\"))\n",
        "  model.add(keras.layers.Dense(11, activation=\"relu\"))\n",
        "  model.add(keras.layers.Dense(10, activation=\"softmax\", bias_initializer=output_bias))\n",
        "\n",
        "  model.compile(\n",
        "      optimizer=optimizer,\n",
        "      loss=keras.losses.CategoricalCrossentropy(),\n",
        "      metrics=metrics\n",
        "  )\n",
        "\n",
        "  return model"
      ],
      "metadata": {
        "id": "kCUAAJztVaoM"
      },
      "execution_count": 11,
      "outputs": []
    },
    {
      "cell_type": "code",
      "source": [
        "# BASELINE MODEL\n",
        "# Build the model\n",
        "EPOCHS = 100\n",
        "BATCH_SIZE = 5\n",
        "\n",
        "early_stopping = tf.keras.callbacks.EarlyStopping(\n",
        "    monitor=\"val_loss\",\n",
        "    verbose=1,\n",
        "    patience=50,\n",
        "    mode=\"min\",\n",
        "    restore_best_weights=True\n",
        ")"
      ],
      "metadata": {
        "id": "-wCRbqHpyMg7"
      },
      "execution_count": 12,
      "outputs": []
    },
    {
      "cell_type": "code",
      "source": [
        "model = make_model()\n",
        "model.summary()"
      ],
      "metadata": {
        "colab": {
          "base_uri": "https://localhost:8080/"
        },
        "id": "yrkOCiHyy7r2",
        "outputId": "8c5cc6a4-00e3-4da5-aab3-0a70949fa2b8"
      },
      "execution_count": 13,
      "outputs": [
        {
          "output_type": "stream",
          "name": "stdout",
          "text": [
            "Model: \"sequential\"\n",
            "_________________________________________________________________\n",
            " Layer (type)                Output Shape              Param #   \n",
            "=================================================================\n",
            " dense (Dense)               (None, 12)                108       \n",
            "                                                                 \n",
            " dense_1 (Dense)             (None, 11)                143       \n",
            "                                                                 \n",
            " dense_2 (Dense)             (None, 10)                120       \n",
            "                                                                 \n",
            "=================================================================\n",
            "Total params: 371\n",
            "Trainable params: 371\n",
            "Non-trainable params: 0\n",
            "_________________________________________________________________\n"
          ]
        }
      ]
    },
    {
      "cell_type": "code",
      "source": [
        "'''\n",
        "CYT: 463 (31.20% of total)  - 0.3120\n",
        "NUC: 429 (28.91% of total)  - 0.2891\n",
        "MIT: 244 (16.44% of total)  - 0.1644\n",
        "ME3: 163 (10.98% of total)  - 0.1098\n",
        "ME2: 51 (3.44% of total)    - 0.0344\n",
        "ME1: 44 (2.96% of total)    - 0.0296\n",
        "EXC: 35 (2.36% of total)    - 0.0236\n",
        "VAC: 30 (2.02% of total)    - 0.0202\n",
        "POX: 20 (1.35% of total)    - 0.0135\n",
        "ERL: 5 (0.34% of total)     - 0.0034\n",
        "'''\n",
        "\n",
        "initial_bias = [1.5, 1.4, 0.84, 0.41, -0.72, -0.9, -1.1, -1.25, -1.7, -3]\n",
        "\n",
        "# frequency = [(math.exp(b) / sum([math.exp(c) for c in biases])) for b in biases]\n",
        "# print(frequency)"
      ],
      "metadata": {
        "id": "zUsDJ4aL3Y7I"
      },
      "execution_count": 14,
      "outputs": []
    },
    {
      "cell_type": "code",
      "source": [
        "# Checkpoint the initial weights\n",
        "\n",
        "initial_weights = os.path.join(tempfile.mkdtemp(), 'initial_weights')\n",
        "model.save_weights(initial_weights)"
      ],
      "metadata": {
        "id": "1kHRB1OPGuDv"
      },
      "execution_count": 15,
      "outputs": []
    },
    {
      "cell_type": "code",
      "source": [
        "# Train the model\n",
        "\n",
        "model = make_model()\n",
        "model.load_weights(initial_weights)\n",
        "baseline_history = model.fit(\n",
        "    train_features,\n",
        "    train_labels,\n",
        "    batch_size=BATCH_SIZE,\n",
        "    epochs=EPOCHS,\n",
        "    validation_data=(val_features, val_labels))"
      ],
      "metadata": {
        "colab": {
          "base_uri": "https://localhost:8080/"
        },
        "id": "y3YL6F3aH4yP",
        "outputId": "79e2b7a0-8466-4543-ec1c-7e291a0da1c2"
      },
      "execution_count": 16,
      "outputs": [
        {
          "output_type": "stream",
          "name": "stdout",
          "text": [
            "Epoch 1/100\n",
            "646/646 [==============================] - 4s 4ms/step - loss: 1.8259 - accuracy: 0.3573 - precision: 0.8773 - recall: 0.1040 - auc: 0.7812 - prc: 0.4119 - val_loss: 1.5923 - val_accuracy: 0.4311 - val_precision: 0.7000 - val_recall: 0.0311 - val_auc: 0.8698 - val_prc: 0.4198\n",
            "Epoch 2/100\n",
            "646/646 [==============================] - 2s 2ms/step - loss: 1.2483 - accuracy: 0.5641 - precision: 0.8823 - recall: 0.2854 - auc: 0.9133 - prc: 0.6436 - val_loss: 1.4344 - val_accuracy: 0.4711 - val_precision: 0.7000 - val_recall: 0.2178 - val_auc: 0.8840 - val_prc: 0.4815\n",
            "Epoch 3/100\n",
            "646/646 [==============================] - 2s 3ms/step - loss: 1.0603 - accuracy: 0.6093 - precision: 0.8356 - recall: 0.4059 - auc: 0.9384 - prc: 0.7073 - val_loss: 1.4307 - val_accuracy: 0.4578 - val_precision: 0.6706 - val_recall: 0.2533 - val_auc: 0.8830 - val_prc: 0.4853\n",
            "Epoch 4/100\n",
            "646/646 [==============================] - 2s 2ms/step - loss: 0.9661 - accuracy: 0.6319 - precision: 0.8279 - recall: 0.4588 - auc: 0.9484 - prc: 0.7342 - val_loss: 1.4245 - val_accuracy: 0.4844 - val_precision: 0.6200 - val_recall: 0.2756 - val_auc: 0.8865 - val_prc: 0.5037\n",
            "Epoch 5/100\n",
            "646/646 [==============================] - 2s 3ms/step - loss: 0.9085 - accuracy: 0.6486 - precision: 0.8134 - recall: 0.4873 - auc: 0.9543 - prc: 0.7534 - val_loss: 1.5045 - val_accuracy: 0.4400 - val_precision: 0.6250 - val_recall: 0.2889 - val_auc: 0.8734 - val_prc: 0.4870\n",
            "Epoch 6/100\n",
            "646/646 [==============================] - 2s 2ms/step - loss: 0.8690 - accuracy: 0.6663 - precision: 0.8258 - recall: 0.5124 - auc: 0.9582 - prc: 0.7685 - val_loss: 1.4268 - val_accuracy: 0.4533 - val_precision: 0.6154 - val_recall: 0.2844 - val_auc: 0.8875 - val_prc: 0.5119\n",
            "Epoch 7/100\n",
            "646/646 [==============================] - 2s 2ms/step - loss: 0.8410 - accuracy: 0.6740 - precision: 0.8253 - recall: 0.5223 - auc: 0.9608 - prc: 0.7787 - val_loss: 1.4214 - val_accuracy: 0.4711 - val_precision: 0.6538 - val_recall: 0.3022 - val_auc: 0.8888 - val_prc: 0.5349\n",
            "Epoch 8/100\n",
            "646/646 [==============================] - 2s 3ms/step - loss: 0.8202 - accuracy: 0.6796 - precision: 0.8374 - recall: 0.5372 - auc: 0.9625 - prc: 0.7868 - val_loss: 1.4562 - val_accuracy: 0.4889 - val_precision: 0.6224 - val_recall: 0.2711 - val_auc: 0.8839 - val_prc: 0.5191\n",
            "Epoch 9/100\n",
            "646/646 [==============================] - 2s 2ms/step - loss: 0.8008 - accuracy: 0.6876 - precision: 0.8326 - recall: 0.5542 - auc: 0.9643 - prc: 0.7953 - val_loss: 1.4370 - val_accuracy: 0.5022 - val_precision: 0.5833 - val_recall: 0.2800 - val_auc: 0.8871 - val_prc: 0.5262\n",
            "Epoch 10/100\n",
            "646/646 [==============================] - 2s 2ms/step - loss: 0.7860 - accuracy: 0.6913 - precision: 0.8343 - recall: 0.5625 - auc: 0.9652 - prc: 0.8001 - val_loss: 1.4930 - val_accuracy: 0.4844 - val_precision: 0.6286 - val_recall: 0.2933 - val_auc: 0.8771 - val_prc: 0.5145\n",
            "Epoch 11/100\n",
            "646/646 [==============================] - 2s 3ms/step - loss: 0.7728 - accuracy: 0.6972 - precision: 0.8288 - recall: 0.5693 - auc: 0.9665 - prc: 0.8055 - val_loss: 1.4377 - val_accuracy: 0.5022 - val_precision: 0.6518 - val_recall: 0.3244 - val_auc: 0.8882 - val_prc: 0.5416\n",
            "Epoch 12/100\n",
            "646/646 [==============================] - 2s 2ms/step - loss: 0.7614 - accuracy: 0.7009 - precision: 0.8340 - recall: 0.5786 - auc: 0.9673 - prc: 0.8098 - val_loss: 1.4785 - val_accuracy: 0.4756 - val_precision: 0.6408 - val_recall: 0.2933 - val_auc: 0.8815 - val_prc: 0.5209\n",
            "Epoch 13/100\n",
            "646/646 [==============================] - 2s 3ms/step - loss: 0.7501 - accuracy: 0.7099 - precision: 0.8303 - recall: 0.5771 - auc: 0.9684 - prc: 0.8147 - val_loss: 1.4629 - val_accuracy: 0.4889 - val_precision: 0.6207 - val_recall: 0.3200 - val_auc: 0.8852 - val_prc: 0.5219\n",
            "Epoch 14/100\n",
            "646/646 [==============================] - 2s 2ms/step - loss: 0.7405 - accuracy: 0.7204 - precision: 0.8384 - recall: 0.5926 - auc: 0.9691 - prc: 0.8184 - val_loss: 1.4787 - val_accuracy: 0.4933 - val_precision: 0.6261 - val_recall: 0.3200 - val_auc: 0.8801 - val_prc: 0.5253\n",
            "Epoch 15/100\n",
            "646/646 [==============================] - 2s 2ms/step - loss: 0.7311 - accuracy: 0.7195 - precision: 0.8363 - recall: 0.5867 - auc: 0.9700 - prc: 0.8219 - val_loss: 1.5150 - val_accuracy: 0.4533 - val_precision: 0.5702 - val_recall: 0.2889 - val_auc: 0.8771 - val_prc: 0.4932\n",
            "Epoch 16/100\n",
            "646/646 [==============================] - 2s 2ms/step - loss: 0.7218 - accuracy: 0.7229 - precision: 0.8404 - recall: 0.5935 - auc: 0.9707 - prc: 0.8253 - val_loss: 1.4796 - val_accuracy: 0.4667 - val_precision: 0.6161 - val_recall: 0.3067 - val_auc: 0.8827 - val_prc: 0.5212\n",
            "Epoch 17/100\n",
            "646/646 [==============================] - 2s 2ms/step - loss: 0.7155 - accuracy: 0.7214 - precision: 0.8388 - recall: 0.5978 - auc: 0.9710 - prc: 0.8277 - val_loss: 1.5182 - val_accuracy: 0.4356 - val_precision: 0.5833 - val_recall: 0.3111 - val_auc: 0.8767 - val_prc: 0.4980\n",
            "Epoch 18/100\n",
            "646/646 [==============================] - 2s 2ms/step - loss: 0.7072 - accuracy: 0.7288 - precision: 0.8360 - recall: 0.6062 - auc: 0.9718 - prc: 0.8302 - val_loss: 1.4629 - val_accuracy: 0.4844 - val_precision: 0.5929 - val_recall: 0.2978 - val_auc: 0.8842 - val_prc: 0.5198\n",
            "Epoch 19/100\n",
            "646/646 [==============================] - 2s 2ms/step - loss: 0.7017 - accuracy: 0.7297 - precision: 0.8423 - recall: 0.6037 - auc: 0.9722 - prc: 0.8330 - val_loss: 1.4978 - val_accuracy: 0.4756 - val_precision: 0.5868 - val_recall: 0.3156 - val_auc: 0.8816 - val_prc: 0.4950\n",
            "Epoch 20/100\n",
            "646/646 [==============================] - 2s 3ms/step - loss: 0.6953 - accuracy: 0.7288 - precision: 0.8379 - recall: 0.6130 - auc: 0.9727 - prc: 0.8353 - val_loss: 1.4412 - val_accuracy: 0.4711 - val_precision: 0.6356 - val_recall: 0.3333 - val_auc: 0.8894 - val_prc: 0.5313\n",
            "Epoch 21/100\n",
            "646/646 [==============================] - 2s 2ms/step - loss: 0.6892 - accuracy: 0.7347 - precision: 0.8419 - recall: 0.6149 - auc: 0.9731 - prc: 0.8376 - val_loss: 1.4818 - val_accuracy: 0.4578 - val_precision: 0.5785 - val_recall: 0.3111 - val_auc: 0.8849 - val_prc: 0.5040\n",
            "Epoch 22/100\n",
            "646/646 [==============================] - 2s 3ms/step - loss: 0.6845 - accuracy: 0.7390 - precision: 0.8388 - recall: 0.6217 - auc: 0.9734 - prc: 0.8395 - val_loss: 1.4738 - val_accuracy: 0.4800 - val_precision: 0.6121 - val_recall: 0.3156 - val_auc: 0.8859 - val_prc: 0.5113\n",
            "Epoch 23/100\n",
            "646/646 [==============================] - 2s 3ms/step - loss: 0.6787 - accuracy: 0.7353 - precision: 0.8396 - recall: 0.6207 - auc: 0.9738 - prc: 0.8408 - val_loss: 1.5205 - val_accuracy: 0.4533 - val_precision: 0.5882 - val_recall: 0.3111 - val_auc: 0.8791 - val_prc: 0.4958\n",
            "Epoch 24/100\n",
            "646/646 [==============================] - 2s 3ms/step - loss: 0.6755 - accuracy: 0.7393 - precision: 0.8410 - recall: 0.6254 - auc: 0.9742 - prc: 0.8425 - val_loss: 1.5069 - val_accuracy: 0.4356 - val_precision: 0.5833 - val_recall: 0.3111 - val_auc: 0.8817 - val_prc: 0.4919\n",
            "Epoch 25/100\n",
            "646/646 [==============================] - 2s 3ms/step - loss: 0.6677 - accuracy: 0.7430 - precision: 0.8406 - recall: 0.6334 - auc: 0.9748 - prc: 0.8454 - val_loss: 1.5247 - val_accuracy: 0.4356 - val_precision: 0.5424 - val_recall: 0.2844 - val_auc: 0.8805 - val_prc: 0.4807\n",
            "Epoch 26/100\n",
            "646/646 [==============================] - 2s 3ms/step - loss: 0.6661 - accuracy: 0.7446 - precision: 0.8447 - recall: 0.6365 - auc: 0.9746 - prc: 0.8457 - val_loss: 1.4877 - val_accuracy: 0.4400 - val_precision: 0.5868 - val_recall: 0.3156 - val_auc: 0.8848 - val_prc: 0.5143\n",
            "Epoch 27/100\n",
            "646/646 [==============================] - 2s 2ms/step - loss: 0.6630 - accuracy: 0.7471 - precision: 0.8379 - recall: 0.6368 - auc: 0.9750 - prc: 0.8473 - val_loss: 1.5095 - val_accuracy: 0.4533 - val_precision: 0.6032 - val_recall: 0.3378 - val_auc: 0.8812 - val_prc: 0.5045\n",
            "Epoch 28/100\n",
            "646/646 [==============================] - 2s 3ms/step - loss: 0.6589 - accuracy: 0.7458 - precision: 0.8387 - recall: 0.6455 - auc: 0.9751 - prc: 0.8484 - val_loss: 1.5103 - val_accuracy: 0.4533 - val_precision: 0.5984 - val_recall: 0.3244 - val_auc: 0.8805 - val_prc: 0.5024\n",
            "Epoch 29/100\n",
            "646/646 [==============================] - 2s 3ms/step - loss: 0.6561 - accuracy: 0.7449 - precision: 0.8386 - recall: 0.6384 - auc: 0.9755 - prc: 0.8490 - val_loss: 1.4953 - val_accuracy: 0.4489 - val_precision: 0.5820 - val_recall: 0.3156 - val_auc: 0.8832 - val_prc: 0.5114\n",
            "Epoch 30/100\n",
            "646/646 [==============================] - 2s 3ms/step - loss: 0.6547 - accuracy: 0.7437 - precision: 0.8384 - recall: 0.6409 - auc: 0.9756 - prc: 0.8501 - val_loss: 1.5092 - val_accuracy: 0.4489 - val_precision: 0.5574 - val_recall: 0.3022 - val_auc: 0.8826 - val_prc: 0.4964\n",
            "Epoch 31/100\n",
            "646/646 [==============================] - 2s 2ms/step - loss: 0.6485 - accuracy: 0.7486 - precision: 0.8408 - recall: 0.6458 - auc: 0.9761 - prc: 0.8524 - val_loss: 1.5382 - val_accuracy: 0.4578 - val_precision: 0.5820 - val_recall: 0.3156 - val_auc: 0.8794 - val_prc: 0.4873\n",
            "Epoch 32/100\n",
            "646/646 [==============================] - 2s 3ms/step - loss: 0.6469 - accuracy: 0.7514 - precision: 0.8399 - recall: 0.6464 - auc: 0.9761 - prc: 0.8528 - val_loss: 1.5539 - val_accuracy: 0.4622 - val_precision: 0.5833 - val_recall: 0.3111 - val_auc: 0.8779 - val_prc: 0.4754\n",
            "Epoch 33/100\n",
            "646/646 [==============================] - 2s 3ms/step - loss: 0.6446 - accuracy: 0.7514 - precision: 0.8397 - recall: 0.6536 - auc: 0.9760 - prc: 0.8538 - val_loss: 1.5320 - val_accuracy: 0.4400 - val_precision: 0.5645 - val_recall: 0.3111 - val_auc: 0.8781 - val_prc: 0.4862\n",
            "Epoch 34/100\n",
            "646/646 [==============================] - 2s 3ms/step - loss: 0.6421 - accuracy: 0.7520 - precision: 0.8391 - recall: 0.6557 - auc: 0.9765 - prc: 0.8551 - val_loss: 1.5285 - val_accuracy: 0.4578 - val_precision: 0.5397 - val_recall: 0.3022 - val_auc: 0.8817 - val_prc: 0.4974\n",
            "Epoch 35/100\n",
            "646/646 [==============================] - 2s 3ms/step - loss: 0.6348 - accuracy: 0.7557 - precision: 0.8389 - recall: 0.6610 - auc: 0.9767 - prc: 0.8580 - val_loss: 1.5655 - val_accuracy: 0.4400 - val_precision: 0.5643 - val_recall: 0.3511 - val_auc: 0.8779 - val_prc: 0.4904\n",
            "Epoch 36/100\n",
            "646/646 [==============================] - 2s 3ms/step - loss: 0.6369 - accuracy: 0.7557 - precision: 0.8416 - recall: 0.6647 - auc: 0.9767 - prc: 0.8571 - val_loss: 1.5498 - val_accuracy: 0.4489 - val_precision: 0.5433 - val_recall: 0.3067 - val_auc: 0.8814 - val_prc: 0.4912\n",
            "Epoch 37/100\n",
            "646/646 [==============================] - 2s 3ms/step - loss: 0.6344 - accuracy: 0.7582 - precision: 0.8410 - recall: 0.6650 - auc: 0.9767 - prc: 0.8570 - val_loss: 1.5545 - val_accuracy: 0.4578 - val_precision: 0.5372 - val_recall: 0.2889 - val_auc: 0.8780 - val_prc: 0.4769\n",
            "Epoch 38/100\n",
            "646/646 [==============================] - 2s 2ms/step - loss: 0.6307 - accuracy: 0.7579 - precision: 0.8461 - recall: 0.6638 - auc: 0.9770 - prc: 0.8595 - val_loss: 1.5829 - val_accuracy: 0.4489 - val_precision: 0.5328 - val_recall: 0.2889 - val_auc: 0.8769 - val_prc: 0.4665\n",
            "Epoch 39/100\n",
            "646/646 [==============================] - 2s 3ms/step - loss: 0.6293 - accuracy: 0.7607 - precision: 0.8406 - recall: 0.6678 - auc: 0.9770 - prc: 0.8596 - val_loss: 1.5835 - val_accuracy: 0.4578 - val_precision: 0.5588 - val_recall: 0.3378 - val_auc: 0.8753 - val_prc: 0.4885\n",
            "Epoch 40/100\n",
            "646/646 [==============================] - 2s 3ms/step - loss: 0.6277 - accuracy: 0.7570 - precision: 0.8452 - recall: 0.6709 - auc: 0.9770 - prc: 0.8598 - val_loss: 1.5789 - val_accuracy: 0.4578 - val_precision: 0.5303 - val_recall: 0.3111 - val_auc: 0.8799 - val_prc: 0.4883\n",
            "Epoch 41/100\n",
            "646/646 [==============================] - 2s 3ms/step - loss: 0.6242 - accuracy: 0.7641 - precision: 0.8457 - recall: 0.6755 - auc: 0.9773 - prc: 0.8618 - val_loss: 1.5702 - val_accuracy: 0.4667 - val_precision: 0.5556 - val_recall: 0.3111 - val_auc: 0.8798 - val_prc: 0.4865\n",
            "Epoch 42/100\n",
            "646/646 [==============================] - 2s 3ms/step - loss: 0.6210 - accuracy: 0.7610 - precision: 0.8436 - recall: 0.6712 - auc: 0.9772 - prc: 0.8630 - val_loss: 1.5468 - val_accuracy: 0.4711 - val_precision: 0.5806 - val_recall: 0.3200 - val_auc: 0.8832 - val_prc: 0.4969\n",
            "Epoch 43/100\n",
            "646/646 [==============================] - 2s 2ms/step - loss: 0.6176 - accuracy: 0.7622 - precision: 0.8455 - recall: 0.6762 - auc: 0.9779 - prc: 0.8630 - val_loss: 1.5595 - val_accuracy: 0.4578 - val_precision: 0.5703 - val_recall: 0.3244 - val_auc: 0.8811 - val_prc: 0.4951\n",
            "Epoch 44/100\n",
            "646/646 [==============================] - 2s 3ms/step - loss: 0.6182 - accuracy: 0.7684 - precision: 0.8459 - recall: 0.6749 - auc: 0.9775 - prc: 0.8638 - val_loss: 1.5835 - val_accuracy: 0.4578 - val_precision: 0.5496 - val_recall: 0.3200 - val_auc: 0.8778 - val_prc: 0.4873\n",
            "Epoch 45/100\n",
            "646/646 [==============================] - 2s 2ms/step - loss: 0.6176 - accuracy: 0.7573 - precision: 0.8364 - recall: 0.6712 - auc: 0.9781 - prc: 0.8630 - val_loss: 1.5758 - val_accuracy: 0.4622 - val_precision: 0.5420 - val_recall: 0.3156 - val_auc: 0.8820 - val_prc: 0.5016\n",
            "Epoch 46/100\n",
            "646/646 [==============================] - 2s 3ms/step - loss: 0.6112 - accuracy: 0.7663 - precision: 0.8438 - recall: 0.6774 - auc: 0.9781 - prc: 0.8658 - val_loss: 1.5978 - val_accuracy: 0.4533 - val_precision: 0.5385 - val_recall: 0.3111 - val_auc: 0.8792 - val_prc: 0.4823\n",
            "Epoch 47/100\n",
            "646/646 [==============================] - 2s 2ms/step - loss: 0.6123 - accuracy: 0.7604 - precision: 0.8416 - recall: 0.6746 - auc: 0.9780 - prc: 0.8650 - val_loss: 1.5942 - val_accuracy: 0.4489 - val_precision: 0.5441 - val_recall: 0.3289 - val_auc: 0.8820 - val_prc: 0.4975\n",
            "Epoch 48/100\n",
            "646/646 [==============================] - 2s 3ms/step - loss: 0.6061 - accuracy: 0.7687 - precision: 0.8435 - recall: 0.6743 - auc: 0.9786 - prc: 0.8672 - val_loss: 1.5975 - val_accuracy: 0.4622 - val_precision: 0.5615 - val_recall: 0.3244 - val_auc: 0.8788 - val_prc: 0.4993\n",
            "Epoch 49/100\n",
            "646/646 [==============================] - 2s 2ms/step - loss: 0.6092 - accuracy: 0.7625 - precision: 0.8470 - recall: 0.6768 - auc: 0.9783 - prc: 0.8665 - val_loss: 1.6093 - val_accuracy: 0.4622 - val_precision: 0.5512 - val_recall: 0.3111 - val_auc: 0.8780 - val_prc: 0.4799\n",
            "Epoch 50/100\n",
            "646/646 [==============================] - 2s 3ms/step - loss: 0.6038 - accuracy: 0.7647 - precision: 0.8445 - recall: 0.6827 - auc: 0.9787 - prc: 0.8680 - val_loss: 1.6393 - val_accuracy: 0.4267 - val_precision: 0.5252 - val_recall: 0.3244 - val_auc: 0.8739 - val_prc: 0.4724\n",
            "Epoch 51/100\n",
            "646/646 [==============================] - 2s 2ms/step - loss: 0.6018 - accuracy: 0.7728 - precision: 0.8445 - recall: 0.6842 - auc: 0.9787 - prc: 0.8695 - val_loss: 1.5923 - val_accuracy: 0.4622 - val_precision: 0.5649 - val_recall: 0.3289 - val_auc: 0.8796 - val_prc: 0.4915\n",
            "Epoch 52/100\n",
            "646/646 [==============================] - 2s 2ms/step - loss: 0.6000 - accuracy: 0.7666 - precision: 0.8452 - recall: 0.6811 - auc: 0.9789 - prc: 0.8699 - val_loss: 1.5977 - val_accuracy: 0.4667 - val_precision: 0.5659 - val_recall: 0.3244 - val_auc: 0.8805 - val_prc: 0.4882\n",
            "Epoch 53/100\n",
            "646/646 [==============================] - 2s 3ms/step - loss: 0.5963 - accuracy: 0.7712 - precision: 0.8452 - recall: 0.6895 - auc: 0.9792 - prc: 0.8705 - val_loss: 1.6194 - val_accuracy: 0.4711 - val_precision: 0.5362 - val_recall: 0.3289 - val_auc: 0.8787 - val_prc: 0.4940\n",
            "Epoch 54/100\n",
            "646/646 [==============================] - 2s 3ms/step - loss: 0.5947 - accuracy: 0.7724 - precision: 0.8448 - recall: 0.6842 - auc: 0.9791 - prc: 0.8708 - val_loss: 1.6522 - val_accuracy: 0.4578 - val_precision: 0.5185 - val_recall: 0.3111 - val_auc: 0.8772 - val_prc: 0.4734\n",
            "Epoch 55/100\n",
            "646/646 [==============================] - 1s 2ms/step - loss: 0.5945 - accuracy: 0.7709 - precision: 0.8456 - recall: 0.6901 - auc: 0.9792 - prc: 0.8716 - val_loss: 1.6629 - val_accuracy: 0.4311 - val_precision: 0.5111 - val_recall: 0.3067 - val_auc: 0.8745 - val_prc: 0.4624\n",
            "Epoch 56/100\n",
            "646/646 [==============================] - 2s 2ms/step - loss: 0.5911 - accuracy: 0.7777 - precision: 0.8470 - recall: 0.6923 - auc: 0.9794 - prc: 0.8739 - val_loss: 1.6106 - val_accuracy: 0.4711 - val_precision: 0.5564 - val_recall: 0.3289 - val_auc: 0.8821 - val_prc: 0.4951\n",
            "Epoch 57/100\n",
            "646/646 [==============================] - 2s 3ms/step - loss: 0.5897 - accuracy: 0.7743 - precision: 0.8475 - recall: 0.6898 - auc: 0.9795 - prc: 0.8739 - val_loss: 1.6574 - val_accuracy: 0.4533 - val_precision: 0.5267 - val_recall: 0.3067 - val_auc: 0.8749 - val_prc: 0.4663\n",
            "Epoch 58/100\n",
            "646/646 [==============================] - 2s 3ms/step - loss: 0.5880 - accuracy: 0.7724 - precision: 0.8437 - recall: 0.6851 - auc: 0.9795 - prc: 0.8739 - val_loss: 1.6635 - val_accuracy: 0.4533 - val_precision: 0.5290 - val_recall: 0.3244 - val_auc: 0.8757 - val_prc: 0.4807\n",
            "Epoch 59/100\n",
            "646/646 [==============================] - 2s 3ms/step - loss: 0.5867 - accuracy: 0.7743 - precision: 0.8473 - recall: 0.6907 - auc: 0.9798 - prc: 0.8747 - val_loss: 1.6494 - val_accuracy: 0.4533 - val_precision: 0.5373 - val_recall: 0.3200 - val_auc: 0.8802 - val_prc: 0.4780\n",
            "Epoch 60/100\n",
            "646/646 [==============================] - 2s 2ms/step - loss: 0.5842 - accuracy: 0.7752 - precision: 0.8422 - recall: 0.6892 - auc: 0.9799 - prc: 0.8754 - val_loss: 1.6619 - val_accuracy: 0.4578 - val_precision: 0.5102 - val_recall: 0.3333 - val_auc: 0.8789 - val_prc: 0.4755\n",
            "Epoch 61/100\n",
            "646/646 [==============================] - 2s 3ms/step - loss: 0.5826 - accuracy: 0.7762 - precision: 0.8473 - recall: 0.6941 - auc: 0.9799 - prc: 0.8755 - val_loss: 1.6540 - val_accuracy: 0.4578 - val_precision: 0.5294 - val_recall: 0.3200 - val_auc: 0.8781 - val_prc: 0.4721\n",
            "Epoch 62/100\n",
            "646/646 [==============================] - 2s 2ms/step - loss: 0.5827 - accuracy: 0.7805 - precision: 0.8459 - recall: 0.6966 - auc: 0.9802 - prc: 0.8765 - val_loss: 1.6361 - val_accuracy: 0.4711 - val_precision: 0.5662 - val_recall: 0.3422 - val_auc: 0.8838 - val_prc: 0.5008\n",
            "Epoch 63/100\n",
            "646/646 [==============================] - 2s 3ms/step - loss: 0.5804 - accuracy: 0.7808 - precision: 0.8489 - recall: 0.6972 - auc: 0.9803 - prc: 0.8775 - val_loss: 1.6333 - val_accuracy: 0.4711 - val_precision: 0.5252 - val_recall: 0.3244 - val_auc: 0.8823 - val_prc: 0.4855\n",
            "Epoch 64/100\n",
            "646/646 [==============================] - 2s 3ms/step - loss: 0.5790 - accuracy: 0.7793 - precision: 0.8509 - recall: 0.6997 - auc: 0.9801 - prc: 0.8780 - val_loss: 1.6541 - val_accuracy: 0.4800 - val_precision: 0.5556 - val_recall: 0.3333 - val_auc: 0.8815 - val_prc: 0.4968\n",
            "Epoch 65/100\n",
            "646/646 [==============================] - 2s 3ms/step - loss: 0.5738 - accuracy: 0.7820 - precision: 0.8512 - recall: 0.6997 - auc: 0.9807 - prc: 0.8797 - val_loss: 1.6924 - val_accuracy: 0.4756 - val_precision: 0.5252 - val_recall: 0.3244 - val_auc: 0.8749 - val_prc: 0.4750\n",
            "Epoch 66/100\n",
            "646/646 [==============================] - 2s 3ms/step - loss: 0.5756 - accuracy: 0.7824 - precision: 0.8517 - recall: 0.7003 - auc: 0.9806 - prc: 0.8789 - val_loss: 1.6801 - val_accuracy: 0.4622 - val_precision: 0.4797 - val_recall: 0.3156 - val_auc: 0.8806 - val_prc: 0.4719\n",
            "Epoch 67/100\n",
            "646/646 [==============================] - 2s 3ms/step - loss: 0.5742 - accuracy: 0.7814 - precision: 0.8523 - recall: 0.7003 - auc: 0.9805 - prc: 0.8796 - val_loss: 1.6733 - val_accuracy: 0.4489 - val_precision: 0.5139 - val_recall: 0.3289 - val_auc: 0.8808 - val_prc: 0.4726\n",
            "Epoch 68/100\n",
            "646/646 [==============================] - 2s 3ms/step - loss: 0.5736 - accuracy: 0.7830 - precision: 0.8518 - recall: 0.7031 - auc: 0.9806 - prc: 0.8799 - val_loss: 1.6962 - val_accuracy: 0.4622 - val_precision: 0.5103 - val_recall: 0.3289 - val_auc: 0.8791 - val_prc: 0.4770\n",
            "Epoch 69/100\n",
            "646/646 [==============================] - 2s 3ms/step - loss: 0.5700 - accuracy: 0.7802 - precision: 0.8511 - recall: 0.7009 - auc: 0.9807 - prc: 0.8807 - val_loss: 1.6849 - val_accuracy: 0.4533 - val_precision: 0.5035 - val_recall: 0.3156 - val_auc: 0.8806 - val_prc: 0.4747\n",
            "Epoch 70/100\n",
            "646/646 [==============================] - 2s 3ms/step - loss: 0.5681 - accuracy: 0.7876 - precision: 0.8503 - recall: 0.7071 - auc: 0.9810 - prc: 0.8823 - val_loss: 1.6801 - val_accuracy: 0.4400 - val_precision: 0.5069 - val_recall: 0.3244 - val_auc: 0.8794 - val_prc: 0.4812\n",
            "Epoch 71/100\n",
            "646/646 [==============================] - 2s 3ms/step - loss: 0.5687 - accuracy: 0.7796 - precision: 0.8475 - recall: 0.7022 - auc: 0.9809 - prc: 0.8810 - val_loss: 1.6627 - val_accuracy: 0.4711 - val_precision: 0.5390 - val_recall: 0.3378 - val_auc: 0.8843 - val_prc: 0.4937\n",
            "Epoch 72/100\n",
            "646/646 [==============================] - 2s 3ms/step - loss: 0.5661 - accuracy: 0.7867 - precision: 0.8528 - recall: 0.7015 - auc: 0.9811 - prc: 0.8823 - val_loss: 1.7064 - val_accuracy: 0.4622 - val_precision: 0.5143 - val_recall: 0.3200 - val_auc: 0.8790 - val_prc: 0.4770\n",
            "Epoch 73/100\n",
            "646/646 [==============================] - 2s 3ms/step - loss: 0.5623 - accuracy: 0.7904 - precision: 0.8504 - recall: 0.7093 - auc: 0.9813 - prc: 0.8839 - val_loss: 1.6913 - val_accuracy: 0.4622 - val_precision: 0.5172 - val_recall: 0.3333 - val_auc: 0.8822 - val_prc: 0.4829\n",
            "Epoch 74/100\n",
            "646/646 [==============================] - 2s 3ms/step - loss: 0.5611 - accuracy: 0.7870 - precision: 0.8532 - recall: 0.7090 - auc: 0.9813 - prc: 0.8850 - val_loss: 1.7269 - val_accuracy: 0.4489 - val_precision: 0.5035 - val_recall: 0.3156 - val_auc: 0.8767 - val_prc: 0.4561\n",
            "Epoch 75/100\n",
            "646/646 [==============================] - 2s 3ms/step - loss: 0.5600 - accuracy: 0.7898 - precision: 0.8542 - recall: 0.7022 - auc: 0.9817 - prc: 0.8846 - val_loss: 1.7086 - val_accuracy: 0.4800 - val_precision: 0.5493 - val_recall: 0.3467 - val_auc: 0.8810 - val_prc: 0.4779\n",
            "Epoch 76/100\n",
            "646/646 [==============================] - 2s 3ms/step - loss: 0.5601 - accuracy: 0.7901 - precision: 0.8500 - recall: 0.7034 - auc: 0.9816 - prc: 0.8850 - val_loss: 1.7057 - val_accuracy: 0.4800 - val_precision: 0.5390 - val_recall: 0.3378 - val_auc: 0.8834 - val_prc: 0.4941\n",
            "Epoch 77/100\n",
            "646/646 [==============================] - 2s 3ms/step - loss: 0.5527 - accuracy: 0.7926 - precision: 0.8581 - recall: 0.7111 - auc: 0.9821 - prc: 0.8878 - val_loss: 1.7177 - val_accuracy: 0.4578 - val_precision: 0.5172 - val_recall: 0.3333 - val_auc: 0.8823 - val_prc: 0.4809\n",
            "Epoch 78/100\n",
            "646/646 [==============================] - 2s 3ms/step - loss: 0.5552 - accuracy: 0.7916 - precision: 0.8526 - recall: 0.7090 - auc: 0.9820 - prc: 0.8862 - val_loss: 1.7460 - val_accuracy: 0.4533 - val_precision: 0.5143 - val_recall: 0.3200 - val_auc: 0.8774 - val_prc: 0.4539\n",
            "Epoch 79/100\n",
            "646/646 [==============================] - 2s 3ms/step - loss: 0.5526 - accuracy: 0.7907 - precision: 0.8562 - recall: 0.7115 - auc: 0.9823 - prc: 0.8874 - val_loss: 1.7708 - val_accuracy: 0.4311 - val_precision: 0.4752 - val_recall: 0.2978 - val_auc: 0.8734 - val_prc: 0.4523\n",
            "Epoch 80/100\n",
            "646/646 [==============================] - 2s 3ms/step - loss: 0.5492 - accuracy: 0.7901 - precision: 0.8565 - recall: 0.7077 - auc: 0.9826 - prc: 0.8886 - val_loss: 1.7461 - val_accuracy: 0.4622 - val_precision: 0.5177 - val_recall: 0.3244 - val_auc: 0.8786 - val_prc: 0.4706\n",
            "Epoch 81/100\n",
            "646/646 [==============================] - 2s 3ms/step - loss: 0.5487 - accuracy: 0.7938 - precision: 0.8566 - recall: 0.7139 - auc: 0.9825 - prc: 0.8883 - val_loss: 1.7569 - val_accuracy: 0.4578 - val_precision: 0.5405 - val_recall: 0.3556 - val_auc: 0.8790 - val_prc: 0.4835\n",
            "Epoch 82/100\n",
            "646/646 [==============================] - 2s 3ms/step - loss: 0.5480 - accuracy: 0.7960 - precision: 0.8552 - recall: 0.7096 - auc: 0.9826 - prc: 0.8889 - val_loss: 1.7247 - val_accuracy: 0.4844 - val_precision: 0.5226 - val_recall: 0.3600 - val_auc: 0.8824 - val_prc: 0.4726\n",
            "Epoch 83/100\n",
            "646/646 [==============================] - 2s 2ms/step - loss: 0.5460 - accuracy: 0.7950 - precision: 0.8599 - recall: 0.7164 - auc: 0.9827 - prc: 0.8904 - val_loss: 1.7722 - val_accuracy: 0.4533 - val_precision: 0.5069 - val_recall: 0.3244 - val_auc: 0.8745 - val_prc: 0.4587\n",
            "Epoch 84/100\n",
            "646/646 [==============================] - 2s 3ms/step - loss: 0.5427 - accuracy: 0.7935 - precision: 0.8541 - recall: 0.7180 - auc: 0.9826 - prc: 0.8908 - val_loss: 1.7666 - val_accuracy: 0.4756 - val_precision: 0.5170 - val_recall: 0.3378 - val_auc: 0.8812 - val_prc: 0.4789\n",
            "Epoch 85/100\n",
            "646/646 [==============================] - 2s 3ms/step - loss: 0.5437 - accuracy: 0.7932 - precision: 0.8538 - recall: 0.7176 - auc: 0.9829 - prc: 0.8904 - val_loss: 1.7669 - val_accuracy: 0.4711 - val_precision: 0.5238 - val_recall: 0.3422 - val_auc: 0.8798 - val_prc: 0.4789\n",
            "Epoch 86/100\n",
            "646/646 [==============================] - 2s 3ms/step - loss: 0.5401 - accuracy: 0.7938 - precision: 0.8560 - recall: 0.7176 - auc: 0.9830 - prc: 0.8914 - val_loss: 1.7511 - val_accuracy: 0.4800 - val_precision: 0.5405 - val_recall: 0.3556 - val_auc: 0.8800 - val_prc: 0.4783\n",
            "Epoch 87/100\n",
            "646/646 [==============================] - 2s 3ms/step - loss: 0.5388 - accuracy: 0.7972 - precision: 0.8553 - recall: 0.7245 - auc: 0.9830 - prc: 0.8916 - val_loss: 1.7585 - val_accuracy: 0.4889 - val_precision: 0.5315 - val_recall: 0.3378 - val_auc: 0.8819 - val_prc: 0.4753\n",
            "Epoch 88/100\n",
            "646/646 [==============================] - 2s 3ms/step - loss: 0.5386 - accuracy: 0.8009 - precision: 0.8634 - recall: 0.7220 - auc: 0.9830 - prc: 0.8922 - val_loss: 1.7929 - val_accuracy: 0.4489 - val_precision: 0.5170 - val_recall: 0.3378 - val_auc: 0.8753 - val_prc: 0.4547\n",
            "Epoch 89/100\n",
            "646/646 [==============================] - 2s 3ms/step - loss: 0.5360 - accuracy: 0.8003 - precision: 0.8630 - recall: 0.7217 - auc: 0.9831 - prc: 0.8931 - val_loss: 1.7864 - val_accuracy: 0.4756 - val_precision: 0.5385 - val_recall: 0.3422 - val_auc: 0.8790 - val_prc: 0.4752\n",
            "Epoch 90/100\n",
            "646/646 [==============================] - 2s 3ms/step - loss: 0.5344 - accuracy: 0.7950 - precision: 0.8602 - recall: 0.7257 - auc: 0.9834 - prc: 0.8932 - val_loss: 1.8153 - val_accuracy: 0.4756 - val_precision: 0.5034 - val_recall: 0.3333 - val_auc: 0.8734 - val_prc: 0.4514\n",
            "Epoch 91/100\n",
            "646/646 [==============================] - 2s 3ms/step - loss: 0.5358 - accuracy: 0.7969 - precision: 0.8579 - recall: 0.7251 - auc: 0.9834 - prc: 0.8936 - val_loss: 1.8134 - val_accuracy: 0.4622 - val_precision: 0.4966 - val_recall: 0.3289 - val_auc: 0.8779 - val_prc: 0.4619\n",
            "Epoch 92/100\n",
            "646/646 [==============================] - 2s 3ms/step - loss: 0.5334 - accuracy: 0.8062 - precision: 0.8630 - recall: 0.7276 - auc: 0.9833 - prc: 0.8944 - val_loss: 1.7777 - val_accuracy: 0.4933 - val_precision: 0.5338 - val_recall: 0.3511 - val_auc: 0.8808 - val_prc: 0.4770\n",
            "Epoch 93/100\n",
            "646/646 [==============================] - 2s 3ms/step - loss: 0.5348 - accuracy: 0.7969 - precision: 0.8545 - recall: 0.7238 - auc: 0.9832 - prc: 0.8927 - val_loss: 1.8216 - val_accuracy: 0.4711 - val_precision: 0.4899 - val_recall: 0.3244 - val_auc: 0.8755 - val_prc: 0.4551\n",
            "Epoch 94/100\n",
            "646/646 [==============================] - 2s 3ms/step - loss: 0.5336 - accuracy: 0.7972 - precision: 0.8583 - recall: 0.7238 - auc: 0.9832 - prc: 0.8934 - val_loss: 1.8322 - val_accuracy: 0.4844 - val_precision: 0.4832 - val_recall: 0.3200 - val_auc: 0.8761 - val_prc: 0.4600\n",
            "Epoch 95/100\n",
            "646/646 [==============================] - 2s 3ms/step - loss: 0.5312 - accuracy: 0.7997 - precision: 0.8524 - recall: 0.7279 - auc: 0.9833 - prc: 0.8945 - val_loss: 1.8268 - val_accuracy: 0.4311 - val_precision: 0.4934 - val_recall: 0.3333 - val_auc: 0.8748 - val_prc: 0.4428\n",
            "Epoch 96/100\n",
            "646/646 [==============================] - 2s 3ms/step - loss: 0.5307 - accuracy: 0.7988 - precision: 0.8552 - recall: 0.7257 - auc: 0.9835 - prc: 0.8942 - val_loss: 1.8290 - val_accuracy: 0.4489 - val_precision: 0.4868 - val_recall: 0.3289 - val_auc: 0.8758 - val_prc: 0.4440\n",
            "Epoch 97/100\n",
            "646/646 [==============================] - 2s 3ms/step - loss: 0.5305 - accuracy: 0.8009 - precision: 0.8577 - recall: 0.7276 - auc: 0.9838 - prc: 0.8945 - val_loss: 1.8308 - val_accuracy: 0.4533 - val_precision: 0.5034 - val_recall: 0.3289 - val_auc: 0.8757 - val_prc: 0.4538\n",
            "Epoch 98/100\n",
            "646/646 [==============================] - 2s 3ms/step - loss: 0.5301 - accuracy: 0.7950 - precision: 0.8537 - recall: 0.7263 - auc: 0.9833 - prc: 0.8940 - val_loss: 1.8810 - val_accuracy: 0.4800 - val_precision: 0.5067 - val_recall: 0.3378 - val_auc: 0.8685 - val_prc: 0.4439\n",
            "Epoch 99/100\n",
            "646/646 [==============================] - 2s 3ms/step - loss: 0.5270 - accuracy: 0.7981 - precision: 0.8570 - recall: 0.7272 - auc: 0.9837 - prc: 0.8959 - val_loss: 1.8075 - val_accuracy: 0.4800 - val_precision: 0.5270 - val_recall: 0.3467 - val_auc: 0.8802 - val_prc: 0.4725\n",
            "Epoch 100/100\n",
            "646/646 [==============================] - 2s 3ms/step - loss: 0.5272 - accuracy: 0.8000 - precision: 0.8596 - recall: 0.7260 - auc: 0.9835 - prc: 0.8955 - val_loss: 1.8138 - val_accuracy: 0.5022 - val_precision: 0.5430 - val_recall: 0.3644 - val_auc: 0.8813 - val_prc: 0.4788\n"
          ]
        }
      ]
    },
    {
      "cell_type": "code",
      "source": [
        "# Evaluate metrics\n",
        "train_predictions_baseline = model.predict(train_features)\n",
        "test_predictions_baseline = model.predict(test_features)\n",
        "\n",
        "train_predictions_baseline_encoded = train_predictions_baseline.argmax(1)\n",
        "test_predictions_baseline_encoded = test_predictions_baseline.argmax(1)"
      ],
      "metadata": {
        "id": "8OgcUu8EKcGW"
      },
      "execution_count": 17,
      "outputs": []
    },
    {
      "cell_type": "code",
      "source": [
        "train_labels_encoded = train_labels.argmax(1)\n",
        "test_labels_encoded = test_labels.argmax(1)"
      ],
      "metadata": {
        "id": "o_YPQS6EOJ6f"
      },
      "execution_count": 18,
      "outputs": []
    },
    {
      "cell_type": "code",
      "source": [
        "def plot_cm(labels, predictions, p=0.5):\n",
        "  cm = confusion_matrix(labels, predictions)\n",
        "  plt.figure(figsize=(5,5))\n",
        "  sns.heatmap(cm, annot=True, fmt=\"d\")\n",
        "  plt.title('Confusion matrix @{:.2f}'.format(p))\n",
        "  plt.ylabel('Actual label')\n",
        "  plt.xlabel('Predicted label')"
      ],
      "metadata": {
        "id": "OwYrxPC7K1Mc"
      },
      "execution_count": 19,
      "outputs": []
    },
    {
      "cell_type": "code",
      "source": [
        "baseline_results_train = model.evaluate(train_features, train_labels, batch_size=BATCH_SIZE, verbose=0)\n",
        "for name, value in zip(model.metrics_names, baseline_results_train):\n",
        "  print(name, ': ', value)\n",
        "print()\n",
        "\n",
        "plot_cm(train_labels_encoded, train_predictions_baseline_encoded)"
      ],
      "metadata": {
        "colab": {
          "base_uri": "https://localhost:8080/",
          "height": 472
        },
        "id": "GNgdy5tr_u2n",
        "outputId": "4bd8c418-e98b-46bf-b44e-9219a681ad8c"
      },
      "execution_count": 20,
      "outputs": [
        {
          "output_type": "stream",
          "name": "stdout",
          "text": [
            "loss :  0.5142259001731873\n",
            "accuracy :  0.8114551305770874\n",
            "precision :  0.8662513494491577\n",
            "recall :  0.7318885326385498\n",
            "auc :  0.984777569770813\n",
            "prc :  0.9013278484344482\n",
            "\n"
          ]
        },
        {
          "output_type": "display_data",
          "data": {
            "image/png": "[encoded data removed]",
            "text/plain": [
              "<Figure size 360x360 with 2 Axes>"
            ]
          },
          "metadata": {
            "needs_background": "light"
          }
        }
      ]
    },
    {
      "cell_type": "code",
      "source": [
        "baseline_results = model.evaluate(test_features, test_labels, batch_size=BATCH_SIZE, verbose=0)\n",
        "for name, value in zip(model.metrics_names, baseline_results):\n",
        "  print(name, ': ', value)\n",
        "print()\n",
        "\n",
        "plot_cm(test_labels_encoded, test_predictions_baseline_encoded)"
      ],
      "metadata": {
        "colab": {
          "base_uri": "https://localhost:8080/",
          "height": 472
        },
        "id": "H_zy0dyGLCgk",
        "outputId": "01860853-bd60-4cdd-908d-cd9cbca724df"
      },
      "execution_count": 21,
      "outputs": [
        {
          "output_type": "stream",
          "name": "stdout",
          "text": [
            "loss :  1.7344235181808472\n",
            "accuracy :  0.5133928656578064\n",
            "precision :  0.574999988079071\n",
            "recall :  0.4107142984867096\n",
            "auc :  0.9058181047439575\n",
            "prc :  0.5524765849113464\n",
            "\n"
          ]
        },
        {
          "output_type": "display_data",
          "data": {
            "image/png": "[encoded data removed]",
            "text/plain": [
              "<Figure size 360x360 with 2 Axes>"
            ]
          },
          "metadata": {
            "needs_background": "light"
          }
        }
      ]
    },
    {
      "cell_type": "code",
      "source": [
        "# weight = model.get_weights()\n",
        "# np.savetxt('weight.csv' , weight , fmt='%s', delimiter=',')\n",
        "\n",
        "print(model.get_weights())"
      ],
      "metadata": {
        "colab": {
          "base_uri": "https://localhost:8080/"
        },
        "id": "D_CYbHlYl6k7",
        "outputId": "d0da7b39-596e-4de5-c15e-3ef4f4c44e05"
      },
      "execution_count": 25,
      "outputs": [
        {
          "output_type": "stream",
          "name": "stdout",
          "text": [
            "[array([[-1.0371544 ,  0.24107018,  0.19888107, -0.39403558, -0.57991576,\n",
            "         0.7811768 ,  1.1381787 , -0.48150656,  0.77028996, -0.98814976,\n",
            "        -0.79276234,  1.886355  ],\n",
            "       [-0.48023292,  0.281883  , -0.49162304, -0.2736657 , -1.0890778 ,\n",
            "         1.0635422 ,  0.22176245,  1.1145309 , -0.34051266, -0.07835048,\n",
            "        -0.23753053, -0.04411686],\n",
            "       [-0.44887617,  0.68333226, -0.0653076 , -0.9803281 ,  1.4683349 ,\n",
            "        -1.0349183 , -0.040626  , -0.23099315,  0.11721054,  1.4908166 ,\n",
            "        -1.4200885 ,  0.5422489 ],\n",
            "       [-0.28787032, -0.41759807, -1.1537001 , -0.6171423 ,  1.122621  ,\n",
            "        -1.2276573 ,  0.85518986, -0.58229053, -0.7143138 ,  0.500587  ,\n",
            "         0.3294535 , -0.10804477],\n",
            "       [ 0.26047233, -0.89519596, -0.03969692,  0.73164696,  0.28198493,\n",
            "        -0.9372319 ,  0.24642272,  0.07795317,  1.471696  , -1.1330851 ,\n",
            "        -0.3646253 , -0.4672229 ],\n",
            "       [-1.0207477 ,  1.0781975 ,  0.95801073, -0.3465571 , -0.45271355,\n",
            "         0.14481974, -1.2522874 , -0.66873825,  0.84041756,  0.48417047,\n",
            "         1.0283911 ,  0.96500236],\n",
            "       [-0.19534504, -0.9053354 ,  0.56517816, -1.1215156 ,  0.7573474 ,\n",
            "        -0.46351662, -0.31922972,  0.26293275, -0.80812544, -0.32499525,\n",
            "        -0.31183484, -0.46089956],\n",
            "       [ 0.71162254, -0.19857971,  1.1295271 ,  0.13599837,  1.0128565 ,\n",
            "         0.29552636,  0.7237334 ,  1.6017494 ,  0.84224874,  0.20081617,\n",
            "         0.0336487 , -0.30669767]], dtype=float32), array([ 0.4813665 ,  0.68904376,  0.80734706, -0.17044573, -0.50030965,\n",
            "       -0.48682654,  1.0712104 ,  0.49078578,  0.32023668,  1.1274905 ,\n",
            "        1.102706  , -0.30487552], dtype=float32), array([[-1.1696602 , -0.70856726, -0.0756968 , -0.13518293,  0.0577603 ,\n",
            "         0.14768243,  0.36523458, -1.0921904 , -0.7928381 ,  0.08366826,\n",
            "         0.4241582 ],\n",
            "       [-0.29602146,  0.00334585, -1.0713065 , -0.04226818,  0.25336656,\n",
            "         0.06413456, -1.0955901 ,  0.24101733,  0.8720111 , -0.17051129,\n",
            "         1.2888583 ],\n",
            "       [ 0.3967456 , -0.7435967 ,  0.8386415 ,  0.07960865, -1.1469035 ,\n",
            "        -0.16366814,  0.95412   , -0.2401304 ,  0.46602467,  0.8193537 ,\n",
            "         0.06765415],\n",
            "       [ 0.43190688, -0.17499223,  1.5664095 ,  0.8309313 ,  0.95397687,\n",
            "        -0.5539938 , -0.109172  ,  0.348531  , -0.28767654, -1.3430079 ,\n",
            "        -0.4664686 ],\n",
            "       [ 1.1666033 , -0.6414555 ,  0.75334316,  1.1231499 ,  0.5351021 ,\n",
            "         0.42192832, -1.1297486 ,  0.4199754 , -0.0845051 ,  0.23611207,\n",
            "         0.07702538],\n",
            "       [ 0.69770813, -0.02231322, -0.831442  ,  0.2839042 , -0.84979725,\n",
            "         0.62399006,  0.48977304,  0.9618407 ,  0.08306118, -0.6171367 ,\n",
            "         0.12470829],\n",
            "       [ 0.34008685,  1.064217  , -0.04749426,  0.47490752, -0.24379134,\n",
            "        -0.714444  ,  0.9397669 ,  0.8886595 ,  0.45056593, -0.0822743 ,\n",
            "        -0.2949378 ],\n",
            "       [ 0.4199909 , -0.408277  ,  0.79007286,  0.82061404,  1.519244  ,\n",
            "        -0.19085868, -1.4233593 ,  0.59836996, -0.4764539 , -0.40791598,\n",
            "         0.0937326 ],\n",
            "       [-0.8026367 ,  2.099131  , -0.216642  ,  0.3476056 ,  0.83132046,\n",
            "         0.3937982 , -0.10935332, -1.5010058 ,  0.4264746 ,  0.60511607,\n",
            "         0.68937695],\n",
            "       [ 0.3582986 , -0.07011037,  0.5704832 , -1.571136  ,  0.3005713 ,\n",
            "        -0.3443637 ,  0.56999445, -0.95419335,  1.2097484 ,  0.13410883,\n",
            "        -0.90587556],\n",
            "       [-0.06694797,  0.48910284, -0.88959306,  0.90705556, -0.7163195 ,\n",
            "        -1.3891653 , -0.4974562 , -0.59944075, -0.8350072 ,  1.7584553 ,\n",
            "         0.5056059 ],\n",
            "       [ 0.7834593 , -1.0226867 ,  1.3228769 , -0.72489536,  0.9269275 ,\n",
            "         1.1541073 ,  1.5665064 ,  0.5775904 ,  0.04021139,  0.83201545,\n",
            "        -0.08687627]], dtype=float32), array([ 0.6684523 ,  0.6820315 , -0.25631636,  0.22406901, -0.59655076,\n",
            "       -0.02572339,  0.16918828, -0.02270389,  0.65201384,  0.14077254,\n",
            "        0.24692157], dtype=float32), array([[-0.01534211, -6.5560474 ,  0.18284573,  0.70828825, -0.03560785,\n",
            "        -0.67597544,  0.90249807, -0.08362475, -2.8940232 ,  0.00933305],\n",
            "       [-0.4816488 ,  1.8018135 , -1.1162126 ,  0.36729074, -0.16151251,\n",
            "        -1.0687076 , -0.3130239 , -0.2770174 ,  0.80344737, -6.9463334 ],\n",
            "       [ 0.83176804, -1.3656515 , -3.2619452 , -0.70181656, -0.3811176 ,\n",
            "        -0.11669824, -0.12170653,  0.8555142 , -4.5463004 , -0.09890071],\n",
            "       [-0.5728699 ,  0.8468815 , -1.7630868 , -0.11555371, -0.27822152,\n",
            "        -0.34886268, -0.7268614 , -0.76631063, -7.72022   ,  0.58007956],\n",
            "       [-0.04821892, -1.8132151 ,  1.2679205 , -1.406995  ,  0.8384967 ,\n",
            "         0.68076366, -0.02489152,  0.17878562, -4.5869775 , -1.3531289 ],\n",
            "       [-0.09935505, -0.77919275, -2.4502947 , -0.19335724,  0.43856415,\n",
            "        -6.15296   , -0.85446507,  1.1336824 , -0.49981102, -5.7075624 ],\n",
            "       [-1.0167662 , -0.03745423,  0.11309195, -0.394495  ,  1.4154049 ,\n",
            "        -2.0576885 , -1.2827435 , -1.6626518 ,  1.2678508 ,  0.3350366 ],\n",
            "       [-1.4989703 , -5.279299  ,  0.9314487 ,  0.4033837 , -0.8606613 ,\n",
            "         0.585831  , -0.98222935, -0.8531486 ,  0.32779172, -0.01860837],\n",
            "       [ 0.38819775,  0.24923067,  0.20994532, -1.3828928 , -1.7090764 ,\n",
            "        -1.4139241 ,  0.16517282,  0.24640204,  0.9115185 ,  0.47265193],\n",
            "       [-0.02132317, -2.646343  , -1.540138  , -2.2485247 , -0.10561728,\n",
            "         0.6366574 ,  0.08341185,  0.21506537, -0.01872745,  0.2032901 ],\n",
            "       [ 0.08963721, -2.419274  ,  0.24539322, -0.4993331 ,  0.17260644,\n",
            "         1.1209221 ,  0.08227392,  0.23275535,  0.59595037, -1.1974108 ]],\n",
            "      dtype=float32), array([-0.10507137, -0.21437599, -0.475729  , -0.07175842, -0.11314671,\n",
            "       -0.19977795, -0.0877364 , -0.40618235, -0.3513657 , -0.24354887],\n",
            "      dtype=float32)]\n"
          ]
        }
      ]
    }
  ]
}